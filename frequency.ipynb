{
 "cells": [
  {
   "cell_type": "code",
   "execution_count": 5,
   "metadata": {},
   "outputs": [],
   "source": [
    "import numpy as np\n",
    "%run process.ipynb\n",
    "\n",
    "def create_freq_dict(tweets, Y):\n",
    "    \"\"\"tweets is a list of tweets\n",
    "       Y is an m x 1 numpy array with entries as 0(-ve) or 1(+ve)\"\"\"\n",
    "    \n",
    "    y = np.squeeze(Y).tolist()                  #converting Y to a list to make it iterable\n",
    "    freq_dict = {}\n",
    "    \n",
    "    for tweet,senti in zip(tweets, y):\n",
    "        for word in preprocess_tweet(tweet):\n",
    "            pair = (word, senti)\n",
    "            if pair in freq_dict:\n",
    "                freq_dict[pair] += 1\n",
    "            else:\n",
    "                freq_dict[pair] = 1\n",
    "                \n",
    "    \n",
    "    return freq_dict"
   ]
  },
  {
   "cell_type": "code",
   "execution_count": null,
   "metadata": {},
   "outputs": [],
   "source": []
  }
 ],
 "metadata": {
  "kernelspec": {
   "display_name": "Python 3",
   "language": "python",
   "name": "python3"
  },
  "language_info": {
   "codemirror_mode": {
    "name": "ipython",
    "version": 3
   },
   "file_extension": ".py",
   "mimetype": "text/x-python",
   "name": "python",
   "nbconvert_exporter": "python",
   "pygments_lexer": "ipython3",
   "version": "3.7.3"
  }
 },
 "nbformat": 4,
 "nbformat_minor": 2
}
