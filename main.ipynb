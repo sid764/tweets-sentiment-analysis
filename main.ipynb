{
 "cells": [
  {
   "cell_type": "code",
   "execution_count": 3,
   "metadata": {},
   "outputs": [
    {
     "name": "stderr",
     "output_type": "stream",
     "text": [
      "[nltk_data] Downloading package twitter_samples to\n",
      "[nltk_data]     C:\\Users\\Sidharth\\AppData\\Roaming\\nltk_data...\n",
      "[nltk_data]   Package twitter_samples is already up-to-date!\n",
      "[nltk_data] Downloading package stopwords to\n",
      "[nltk_data]     C:\\Users\\Sidharth\\AppData\\Roaming\\nltk_data...\n",
      "[nltk_data]   Package stopwords is already up-to-date!\n"
     ]
    }
   ],
   "source": [
    "import nltk\n",
    "nltk.download('twitter_samples')\n",
    "nltk.download('stopwords')\n",
    "import numpy as np\n",
    "import pandas as pd\n",
    "from nltk.corpus import twitter_samples\n",
    "\n",
    "%run process.ipynb\n",
    "%run frequency.ipynb"
   ]
  },
  {
   "cell_type": "code",
   "execution_count": 4,
   "metadata": {},
   "outputs": [
    {
     "name": "stdout",
     "output_type": "stream",
     "text": [
      "No. of training tweets: 8000\n",
      "No. of test tweets: 2000\n",
      "train_y: (8000, 1)\n",
      "test_y: (2000, 1)\n"
     ]
    }
   ],
   "source": [
    "#There are 5000 positive and 5000 negative tweets. 80% for training and 20% for test set.\n",
    "pos_tweets = twitter_samples.strings('positive_tweets.json')\n",
    "neg_tweets = twitter_samples.strings('negative_tweets.json')\n",
    "\n",
    "train_pos = pos_tweets[:4000]\n",
    "train_neg = neg_tweets[:4000]\n",
    "test_pos = pos_tweets[4000:]\n",
    "test_neg = neg_tweets[4000:]\n",
    "\n",
    "train_x = train_pos + train_neg\n",
    "test_x = test_pos + test_neg\n",
    "\n",
    "train_y = np.append(np.ones((len(train_pos),1)), np.zeros((len(train_neg),1)), axis = 0)\n",
    "test_y = np.append(np.ones((len(test_pos),1)), np.zeros((len(test_neg),1)), axis = 0)\n",
    "\n",
    "print(\"No. of training tweets: \" + str(len(train_x)))\n",
    "print(\"No. of test tweets: \" + str(len(test_x)))\n",
    "print(\"train_y: \" + str(train_y.shape))\n",
    "print(\"test_y: \" + str(test_y.shape))"
   ]
  },
  {
   "cell_type": "code",
   "execution_count": 5,
   "metadata": {},
   "outputs": [],
   "source": [
    "freq = create_freq_dict(train_x, train_y)"
   ]
  },
  {
   "cell_type": "code",
   "execution_count": 6,
   "metadata": {},
   "outputs": [
    {
     "name": "stdout",
     "output_type": "stream",
     "text": [
      "@BhaktisBanter @PallaviRuhail This one is irresistible :)\n",
      "#FlipkartFashionFriday http://t.co/EbZ0L2VENM\n",
      "\n",
      "Processed tweet: ['one', 'irresist', ':)', 'flipkartfashionfriday']\n"
     ]
    }
   ],
   "source": [
    "#Example of preprocessing a tweet\n",
    "print(train_x[5])\n",
    "new_tweet = preprocess_tweet(train_x[5])\n",
    "print(\"\\nProcessed tweet: \" + str(new_tweet))"
   ]
  },
  {
   "cell_type": "code",
   "execution_count": 13,
   "metadata": {},
   "outputs": [],
   "source": [
    "def sigmoid(x):\n",
    "    z = 1/(1 + np.exp(-x))\n",
    "    return z\n",
    "\n",
    "\n",
    "def gradient_descent(x, y, alpha, no_of_iter):\n",
    "    w = np.zeros((3,1))\n",
    "    m = x.shape[0]\n",
    "    \n",
    "    for i in range (0, no_of_iter):\n",
    "        z = np.dot(x, w)\n",
    "        h = sigmoid(z)\n",
    "        J = -1/m * (np.dot((y.T),np.log(h)) + np.dot(((1-y).T),np.log(1-h)))\n",
    "        w = w - (alpha/m) * (np.dot((x.T),(h-y)))\n",
    "    \n",
    "    J = float(J)\n",
    "    return J, w\n",
    "\n",
    "\n",
    "def feature_values(tweet):\n",
    "    new_tweet = preprocess_tweet(tweet)\n",
    "    x = np.zeros((1,3))\n",
    "    x[0,0] = 1\n",
    "    \n",
    "    for word in new_tweet:\n",
    "        x[0,1] += freq.get((word,1.0), 0)\n",
    "        x[0,2] += freq.get((word,0.0), 0)\n",
    "    \n",
    "    assert(x.shape == (1,3))\n",
    "    return x"
   ]
  },
  {
   "cell_type": "code",
   "execution_count": 43,
   "metadata": {},
   "outputs": [
    {
     "name": "stdout",
     "output_type": "stream",
     "text": [
      "Cost= 0.242165\n",
      "Weights: [ 7.25244119e-08  5.23898414e-04 -5.55171267e-04]\n",
      "Accuracy= 0.995\n"
     ]
    }
   ],
   "source": [
    "X = np.zeros((len(train_x), 3))\n",
    "for i in range (0, len(train_x)):\n",
    "    X[i, :] = feature_values(train_x[i])\n",
    "\n",
    "J, W = gradient_descent(X, train_y, 1e-9, 1500)\n",
    "print(f\"Cost= {J:.6f}\")\n",
    "print(f\"Weights: {np.squeeze(W)}\")\n",
    "\n",
    "#To find accuracy\n",
    "y_pred = []\n",
    "for tweet in test_x:\n",
    "    if predict(tweet) > 0.5:\n",
    "        y_pred.append(1.0)\n",
    "    else:\n",
    "        y_pred.append(0.0)\n",
    "\n",
    "accuracy = (y_pred == np.squeeze(test_y)).sum()/len(test_x)\n",
    "print(f\"Accuracy= {accuracy}\")    "
   ]
  },
  {
   "cell_type": "code",
   "execution_count": 18,
   "metadata": {},
   "outputs": [],
   "source": [
    "def predict(tweet):\n",
    "    x = feature_values(tweet)\n",
    "    y = sigmoid(np.dot(x,W))\n",
    "    if y > 0.5:\n",
    "        return 1\n",
    "    else:\n",
    "        return 0"
   ]
  },
  {
   "cell_type": "code",
   "execution_count": 44,
   "metadata": {},
   "outputs": [
    {
     "name": "stdout",
     "output_type": "stream",
     "text": [
      "Positive\n"
     ]
    }
   ],
   "source": [
    "new_tweet = 'I am feeling happy and excited'\n",
    "if predict(mytweet) == 1:\n",
    "    print('Positive')\n",
    "else:\n",
    "    print('Negative')"
   ]
  },
  {
   "cell_type": "code",
   "execution_count": null,
   "metadata": {},
   "outputs": [],
   "source": []
  }
 ],
 "metadata": {
  "kernelspec": {
   "display_name": "Python 3",
   "language": "python",
   "name": "python3"
  },
  "language_info": {
   "codemirror_mode": {
    "name": "ipython",
    "version": 3
   },
   "file_extension": ".py",
   "mimetype": "text/x-python",
   "name": "python",
   "nbconvert_exporter": "python",
   "pygments_lexer": "ipython3",
   "version": "3.7.3"
  }
 },
 "nbformat": 4,
 "nbformat_minor": 2
}
