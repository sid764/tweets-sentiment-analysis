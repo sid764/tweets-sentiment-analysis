{
 "cells": [
  {
   "cell_type": "code",
   "execution_count": 2,
   "metadata": {},
   "outputs": [],
   "source": [
    "import nltk\n",
    "import re\n",
    "import string\n",
    "import numpy as np\n",
    "\n",
    "from nltk.stem import PorterStemmer\n",
    "from nltk.corpus import stopwords\n",
    "from nltk.tokenize import TweetTokenizer\n",
    "\n",
    "def preprocess_tweet(tweet):\n",
    "    #input: tweet of type str\n",
    "    \n",
    "    stemmer = PorterStemmer()\n",
    "    stop_words = stopwords.words('english')\n",
    "    \n",
    "    tweet = re.sub(r'https?:\\/\\/.*[\\r\\n]*', '', tweet)     #removing hyperlinks\n",
    "    tweet = re.sub(r'#', '', tweet)                        #removing '#' from hashtags\n",
    "    tweet = re.sub(r'\\$\\w*', '', tweet)                    #removing tickers\n",
    "    tweet = re.sub(r'^RT[\\s]+', '', tweet)                 #removing retweet symbol 'RT'\n",
    "    \n",
    "    tokenizer = TweetTokenizer(preserve_case = False, \n",
    "                               strip_handles = True,\n",
    "                               reduce_len = True)\n",
    "    tokenized_tweet = tokenizer.tokenize(tweet)            #converts to lowercase & strips off handles\n",
    "    \n",
    "    cleaned_tweet = []\n",
    "    for word in tokenized_tweet:\n",
    "        if(word not in stop_words and \n",
    "           word not in string.punctuation):                #if the word is not a stopword or a punctuation mark \n",
    "            stemmed_word = stemmer.stem(word)              #get the stem of the word, eg: learn for learn,learned,learning\n",
    "            cleaned_tweet.append(stemmed_word)\n",
    "            \n",
    "            \n",
    "    return cleaned_tweet                                   #return the list of processed words"
   ]
  },
  {
   "cell_type": "code",
   "execution_count": null,
   "metadata": {},
   "outputs": [],
   "source": []
  }
 ],
 "metadata": {
  "kernelspec": {
   "display_name": "Python 3",
   "language": "python",
   "name": "python3"
  },
  "language_info": {
   "codemirror_mode": {
    "name": "ipython",
    "version": 3
   },
   "file_extension": ".py",
   "mimetype": "text/x-python",
   "name": "python",
   "nbconvert_exporter": "python",
   "pygments_lexer": "ipython3",
   "version": "3.7.3"
  }
 },
 "nbformat": 4,
 "nbformat_minor": 2
}
